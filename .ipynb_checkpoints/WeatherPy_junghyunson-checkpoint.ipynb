{
 "cells": [
  {
   "cell_type": "markdown",
   "metadata": {},
   "source": [
    "# WeatherPy\n",
    "----\n",
    "\n",
    "#### Note\n",
    "* Instructions have been included for each segment. You do not have to follow them exactly, but they are included to help you think through the steps."
   ]
  },
  {
   "cell_type": "markdown",
   "metadata": {},
   "source": [
    "## Analysis\n",
    "\n",
    "* Observed trend 1: It sounds obvious but the max temperature is higher as you get closer to the equator. There are also more sample data gathered in the north hemisphere due to higher populations\n",
    "\n",
    "* Observed trend 2: There is no strong evidence that there is a correlation between latitude and wind speed/cloudness\n",
    "* Observed trend 3: Cities around the equater seem to have higher humidity level"
   ]
  },
  {
   "cell_type": "code",
   "execution_count": null,
   "metadata": {
    "scrolled": true
   },
   "outputs": [],
   "source": [
    "# Dependencies and Setup\n",
    "import matplotlib.pyplot as plt\n",
    "import pandas as pd\n",
    "import numpy as np\n",
    "import requests\n",
    "import time\n",
    "\n",
    "# Import API key\n",
    "from api_keys import api_key\n",
    "\n",
    "# Incorporated citipy to determine city based on latitude and longitude\n",
    "from citipy import citipy\n",
    "\n",
    "# Output File (CSV)\n",
    "output_data_file = \"output_data/cities.csv\"\n",
    "\n",
    "# Range of latitudes and longitudes\n",
    "lat_range = (-90, 90)\n",
    "lng_range = (-180, 180)"
   ]
  },
  {
   "cell_type": "markdown",
   "metadata": {},
   "source": [
    "## Generate Cities List"
   ]
  },
  {
   "cell_type": "code",
   "execution_count": null,
   "metadata": {},
   "outputs": [],
   "source": [
    "# List for holding lat_lngs and cities\n",
    "lat_lngs = []\n",
    "cities = []\n",
    "\n",
    "# Create a set of random lat and lng combinations\n",
    "lats = np.random.uniform(low=-90.000, high=90.000, size=2000)\n",
    "lngs = np.random.uniform(low=-180.000, high=180.000, size=2000)\n",
    "lat_lngs = zip(lats, lngs)\n",
    "\n",
    "\n",
    "# Identify nearest city for each lat, lng combination\n",
    "for lat_lng in lat_lngs:\n",
    "    city = citipy.nearest_city(lat_lng[0], lat_lng[1]).city_name\n",
    "#     print(city)\n",
    "    \n",
    "    # If the city is unique, then add it to a our cities list\n",
    "    if city not in cities:\n",
    "        cities.append(city)\n",
    "\n",
    "# Print the city count to confirm sufficient count\n",
    "count = len(cities)\n",
    "count"
   ]
  },
  {
   "cell_type": "markdown",
   "metadata": {},
   "source": [
    "### Perform API Calls\n",
    "* Perform a weather check on each city using a series of successive API calls.\n",
    "* Include a print log of each city as it'sbeing processed (with the city number and city name).\n"
   ]
  },
  {
   "cell_type": "markdown",
   "metadata": {},
   "source": [
    "Your objective is to build a series of scatter plots to showcase the following relationships:\n",
    "\n",
    "#Temperature (F) vs. Latitude\n",
    "#Humidity (%) vs. Latitude\n",
    "#Cloudiness (%) vs. Latitude\n",
    "#Wind Speed (mph) vs. Latitude"
   ]
  },
  {
   "cell_type": "code",
   "execution_count": null,
   "metadata": {},
   "outputs": [],
   "source": [
    "\n",
    "base_url = \"http://api.openweathermap.org/data/2.5/weather?\"\n",
    "params = {\n",
    "    \"appid\": api_key,\n",
    "    \"units\": \"imperial\"\n",
    "#     \"q\":\"Klaksvik\"\n",
    "}\n",
    "\n",
    "\n",
    "# response = requests.get(base_url, params=params)\n",
    "# print(response.url)"
   ]
  },
  {
   "cell_type": "code",
   "execution_count": null,
   "metadata": {},
   "outputs": [],
   "source": [
    "\n",
    "weather =[]\n",
    "count = 0\n",
    "setcount=1\n",
    "\n",
    "print(\"Beginning Data Retrieval\")\n",
    "print(\"-----------------------------\")\n",
    "for city in cities:\n",
    "    params[\"q\"] = city,\n",
    "    response = requests.get(base_url,params=params)\n",
    "    response_json = response.json()\n",
    "#     print(response.url)\n",
    "    \n",
    "    if response_json.get(\"id\"):\n",
    "        cityname = response_json[\"name\"]\n",
    "        \n",
    "        if count < 49:\n",
    "            setcount = setcount\n",
    "            count = count +1\n",
    "        else:\n",
    "            setcount = setcount + 1\n",
    "            count = 0\n",
    "            \n",
    "        print(f\"Processing Record {count} of Set {setcount} | {cityname}\")        \n",
    "        weather.append({\"CityID\": response_json[\"id\"],\n",
    "                        \"City\": response_json[\"name\"],\n",
    "                        \"Country\": response_json[\"sys\"][\"country\"], \n",
    "                        \"Date\": response_json[\"dt\"],                                                        \n",
    "                        \"Lat\": response_json[\"coord\"][\"lat\"],\n",
    "                        \"Lng\" : response_json[\"coord\"][\"lon\"],\n",
    "                        \"Max Temp\": response_json[\"main\"][\"temp_max\"],\n",
    "                        \"Humidity\": response_json[\"main\"][\"humidity\"],\n",
    "                        \"Cloudiness\": response_json[\"clouds\"][\"all\"],\n",
    "                        \"Wind Speed\": response_json[\"wind\"][\"speed\"]\n",
    "                       })\n",
    "    else:\n",
    "        print(\"City not found. Skipping...\")\n",
    "        \n",
    "\n",
    "        \n",
    "print(\"-----------------------------\")\n",
    "print(\"Data Retrieval Complete\")\n",
    "print(\"-----------------------------\")\n",
    "\n",
    "#     print(weather_df)\n",
    "#     try:\n",
    "     \n"
   ]
  },
  {
   "cell_type": "markdown",
   "metadata": {},
   "source": [
    "### Convert Raw Data to DataFrame\n",
    "* Export the city data into a .csv.\n",
    "* Display the DataFrame"
   ]
  },
  {
   "cell_type": "code",
   "execution_count": null,
   "metadata": {},
   "outputs": [],
   "source": [
    "weather_df = pd.DataFrame(weather)\n",
    "\n",
    "# # weather_df.count() 689\n",
    "# \tcityid\tcloudness\tcountry\thumidity\tlat\tlon\tname\ttemp\twindspeed\n",
    "weather_no_dups_df = weather_df.drop_duplicates(subset=\"CityID\", keep='first', inplace=False)\n",
    "# weather_no_dups_df.count() 687\n",
    "weather_no_dups_df.count()"
   ]
  },
  {
   "cell_type": "code",
   "execution_count": null,
   "metadata": {},
   "outputs": [],
   "source": [
    "\n",
    "# weather_no_dups_df.dtypes\n",
    "#  Remove amomalies\n",
    "anomalies = weather_no_dups_df[weather_no_dups_df[\"Humidity\"]>100]\n",
    "# anomalies\n",
    "weather_no_dups_df = weather_no_dups_df.drop(anomalies.index, axis=0)\n",
    "# weather_no_dups_df_test\n",
    "\n"
   ]
  },
  {
   "cell_type": "code",
   "execution_count": null,
   "metadata": {},
   "outputs": [],
   "source": [
    "weather_no_dups_df.to_csv(\"WeatherPy.csv\")\n",
    "weather_no_dups_df.head()"
   ]
  },
  {
   "cell_type": "markdown",
   "metadata": {},
   "source": [
    "### Plotting the Data\n",
    "* Use proper labeling of the plots using plot titles (including date of analysis) and axes labels.\n",
    "* Save the plotted figures as .pngs."
   ]
  },
  {
   "cell_type": "markdown",
   "metadata": {},
   "source": [
    "#### Latitude vs. Temperature Plot"
   ]
  },
  {
   "cell_type": "code",
   "execution_count": null,
   "metadata": {},
   "outputs": [],
   "source": [
    "# help(plt.scatter)"
   ]
  },
  {
   "cell_type": "code",
   "execution_count": null,
   "metadata": {},
   "outputs": [],
   "source": [
    "x = weather_no_dups_df[\"Lat\"]\n",
    "y = weather_no_dups_df[\"Max Temp\"]\n",
    "\n",
    "plt.scatter(x, y, marker=\"o\", facecolors=\"steelblue\", edgecolors=\"black\", linewidths=1)\n",
    "plt.grid()\n",
    "plt.title(\"City Latitude vs. Max Temperature (8/27/2019)\")\n",
    "plt.xlabel(\"Latitude\")\n",
    "plt.ylabel(\"Max Temperature (F)\")\n",
    "plt.savefig(\"latitude_temperature.png\")"
   ]
  },
  {
   "cell_type": "markdown",
   "metadata": {},
   "source": [
    "#### Latitude vs. Humidity Plot"
   ]
  },
  {
   "cell_type": "code",
   "execution_count": null,
   "metadata": {},
   "outputs": [],
   "source": [
    "x = weather_no_dups_df[\"Lat\"]\n",
    "y = weather_no_dups_df[\"Humidity\"]\n",
    "\n",
    "plt.scatter(x, y, marker=\"o\", facecolors=\"steelblue\", edgecolors=\"black\", linewidths=1)\n",
    "plt.grid()\n",
    "plt.title(\"City Latitude vs. Humidity (8/27/2019)\")\n",
    "plt.xlabel(\"Latitude\")\n",
    "plt.ylabel(\"Humidity (%)\")\n",
    "plt.savefig(\"latitude_humidity.png\")"
   ]
  },
  {
   "cell_type": "markdown",
   "metadata": {},
   "source": [
    "#### Latitude vs. Cloudiness Plot"
   ]
  },
  {
   "cell_type": "code",
   "execution_count": null,
   "metadata": {},
   "outputs": [],
   "source": [
    "x = weather_no_dups_df[\"Lat\"]\n",
    "y = weather_no_dups_df[\"Cloudiness\"]\n",
    "\n",
    "plt.scatter(x, y, marker=\"o\", facecolors=\"steelblue\", edgecolors=\"black\", linewidths=1)\n",
    "plt.grid()\n",
    "plt.title(\"City Latitude vs. Cloudiness (8/27/2019)\")\n",
    "plt.xlabel(\"Latitude\")\n",
    "plt.ylabel(\"Cloudiness (%)\")\n",
    "plt.savefig(\"latitude_cloudiness.png\")"
   ]
  },
  {
   "cell_type": "markdown",
   "metadata": {},
   "source": [
    "#### Latitude vs. Wind Speed Plot"
   ]
  },
  {
   "cell_type": "code",
   "execution_count": null,
   "metadata": {},
   "outputs": [],
   "source": [
    "x = weather_no_dups_df[\"Lat\"]\n",
    "y = weather_no_dups_df[\"Wind Speed\"]\n",
    "\n",
    "plt.scatter(x, y, marker=\"o\", facecolors=\"steelblue\", edgecolors=\"black\", linewidths=1)\n",
    "plt.grid()\n",
    "plt.title(\"City Latitude vs. Wind Speed (8/27/2019)\")\n",
    "plt.xlabel(\"Latitude\")\n",
    "plt.ylabel(\"Wind Speed (mpg)\")\n",
    "plt.savefig(\"latitude_wind.png\")"
   ]
  },
  {
   "cell_type": "code",
   "execution_count": null,
   "metadata": {},
   "outputs": [],
   "source": []
  }
 ],
 "metadata": {
  "anaconda-cloud": {},
  "kernel_info": {
   "name": "python3"
  },
  "kernelspec": {
   "display_name": "Python 3",
   "language": "python",
   "name": "python3"
  },
  "language_info": {
   "codemirror_mode": {
    "name": "ipython",
    "version": 3
   },
   "file_extension": ".py",
   "mimetype": "text/x-python",
   "name": "python",
   "nbconvert_exporter": "python",
   "pygments_lexer": "ipython3",
   "version": "3.7.3"
  },
  "nteract": {
   "version": "0.12.3"
  }
 },
 "nbformat": 4,
 "nbformat_minor": 2
}
